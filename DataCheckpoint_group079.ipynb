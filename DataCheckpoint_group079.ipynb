{
 "cells": [
  {
   "cell_type": "markdown",
   "metadata": {},
   "source": [
    "# COGS 108 - Data Checkpoint"
   ]
  },
  {
   "cell_type": "markdown",
   "metadata": {},
   "source": [
    "# Names\n",
    "\n",
    "* Thomas ‘Cole’ Biehle\n",
    "* Corrina Chung\n",
    "* Cassandra De La Torre\n",
    "* Nicholas Kho\n",
    "* Luis Flores-Cuevas\n"
   ]
  },
  {
   "cell_type": "markdown",
   "metadata": {},
   "source": [
    "<a id='research_question'></a>\n",
    "# Research Question\n"
   ]
  },
  {
   "cell_type": "markdown",
   "metadata": {},
   "source": [
    "In the U.S, how are Individual perceptions of sleep quality affected by using a smartphone 30 minutes before sleeping? What impact does this have on the number of hours slept at night?"
   ]
  },
  {
   "cell_type": "markdown",
   "metadata": {},
   "source": [
    "# Dataset(s)"
   ]
  },
  {
   "cell_type": "markdown",
   "metadata": {},
   "source": [
    "*Fill in your dataset information here*\n",
    "\n",
    "* Dataset Name: Sleep Study Data (+Sleep Study Pilot)\n",
    " * Sleep Study Pilot uses the same variables and measurements but was conducted before Sleep Study Data in order to test the study. We will be combining these two datasets into one larger dataset to have access to all the data retrieved from this study.\n",
    "* Link to the dataset: https://www.kaggle.com/mlomuscio/sleepstudypilot\n",
    "* Number of observations: 104 for Sleep Study Data (+9 for Sleep Study Pilot) = 113 total\n",
    "\n",
    "This dataset contains information about sleeping habits of individuals in the US, and contains variables that include if the individual has gotten enough sleep, how many hours on average they sleep, if their phone is in arms reach, if they use their phone 30 minutes before sleeping, how tired they feel throughout the day, and lastly whether the individual eats breakfast.\n",
    "We would plan to use this dataset for it’s number of hours slept, if the individual has gotten enough sleep, how tired they are throughout the day, if their phone is in arms reach, and if they use their phone 30 minutes before bed. This would be to analyze if an individual using their phone 30 minutes before bed impacts their number of hours slept, their perception of getting enough sleep, and how tired they are. We would also analyze if an individual having their phone within arms reach correlates to them using it before sleeping.\n"
   ]
  },
  {
   "cell_type": "markdown",
   "metadata": {},
   "source": [
    "# Setup"
   ]
  },
  {
   "cell_type": "code",
   "execution_count": 1,
   "metadata": {},
   "outputs": [],
   "source": [
    "## IMPORT LIBRARIES\n",
    "import numpy as np\n",
    "import pandas as pd\n",
    "import seaborn as sns\n",
    "import matplotlib.pyplot as plt \n"
   ]
  },
  {
   "cell_type": "code",
   "execution_count": 2,
   "metadata": {},
   "outputs": [],
   "source": [
    "## READ IN BOTH CSV FILE DATASETS\n",
    "dfPilot = pd.read_csv ('\\group079_wi21\\SleepStudyPilot.csv')\n",
    "dfStudy = pd.read_csv('\\group079_wi21\\SleepStudyData.csv')\n",
    "## COMBINE DATASETS INTO ONE\n",
    "df = pd.concat([dfPilot, dfStudy])"
   ]
  },
  {
   "cell_type": "markdown",
   "metadata": {},
   "source": [
    "# Data Cleaning"
   ]
  },
  {
   "cell_type": "markdown",
   "metadata": {},
   "source": [
    "Describe your data cleaning steps here."
   ]
  },
  {
   "cell_type": "markdown",
   "metadata": {},
   "source": [
    "To clean our data for the sleep study, we deleted the null values which were for rows 67 and 93. These two rows were missing the numbers of hours the participants slept. We removed these two rows because we wanted to compare the number of hours participants  slept with what they did 30 minutes before sleeping and their perception of how well they slept. The two rows were missing key information we were comparing so it was unnecessary to keep them.\n",
    "### REMOVE NULL VALUE ROWS\n",
    "- df.isna().any()\n",
    "- df = df.dropna()\n",
    " \n",
    "We also changed the values in our data to boolean values in the columns: ‘Enough’, ‘PhoneReach’, and ‘PhoneTime’. When participants stated  ‘Yes’ we changed the value to True and ‘No’ to False. This is to change these values from strings to booleans so that we can manipulate them easier in analysis.\n",
    "### CHANGE YES AND NO TO TRUE AND FALSE, RESPECTIVELY\n",
    "- df = df.replace(to_replace=’No’, value=False).replace(to_replace=’Yes’, value=True)\n",
    " \n",
    "We further cleaned our data by getting rid of the ‘Breakfast’ column because it was unrelated to our analysis on sleep and phone usage.\n",
    "### DROP BREAKFAST COLUMN\n",
    "- df.dropna(‘Breakfast’, axis=1)\n",
    " \n"
   ]
  },
  {
   "cell_type": "markdown",
   "metadata": {},
   "source": [
    "# Project Proposal (updated)"
   ]
  },
  {
   "cell_type": "markdown",
   "metadata": {},
   "source": [
    "| Meeting Date  | Meeting Time| Completed Before Meeting  | Discuss at Meeting |\n",
    "|---|---|---|---|\n",
    "| 1/20  |  1 PM | Read & Think about COGS 108 expectations; brainstorm topics/questions  | Determine best form of communication; Discuss and decide on final project topic; discuss hypothesis; begin background research | \n",
    "| 1/26  |  10 AM |  Do background research on topic | Discuss ideal dataset(s) and ethics; draft project proposal | \n",
    "| 2/1  | 10 AM  | Edit, finalize, and submit proposal; Search for datasets  | Discuss Wrangling and possible analytical approaches; Assign group members to lead each specific part   |\n",
    "| 2/12  | 3 PM  | Import & Wrangle Data (Thomas, Nicholas); EDA (Cassandra, Corrina) | Review/Edit wrangling/EDA; Discuss Analysis Plan   |\n",
    "| 2/23  | 12 PM  | Finalize wrangling/EDA(Cassandra, Corrina); Begin Analysis (Luis, Thomas) | Discuss/edit Analysis; Complete project check-in |\n",
    "| 3/13  | 12 PM  | Complete analysis; Draft results/conclusion/discussion (Luis, Nicholas)| Discuss/edit full project |\n",
    "| 3/19  | Before 11:59 PM  | NA | Turn in Final Project & Group Project Surveys |"
   ]
  },
  {
   "cell_type": "code",
   "execution_count": null,
   "metadata": {},
   "outputs": [],
   "source": []
  },
  {
   "cell_type": "code",
   "execution_count": null,
   "metadata": {},
   "outputs": [],
   "source": []
  },
  {
   "cell_type": "code",
   "execution_count": null,
   "metadata": {},
   "outputs": [],
   "source": []
  }
 ],
 "metadata": {
  "kernelspec": {
   "display_name": "Python 3",
   "language": "python",
   "name": "python3"
  },
  "language_info": {
   "codemirror_mode": {
    "name": "ipython",
    "version": 3
   },
   "file_extension": ".py",
   "mimetype": "text/x-python",
   "name": "python",
   "nbconvert_exporter": "python",
   "pygments_lexer": "ipython3",
   "version": "3.8.5"
  }
 },
 "nbformat": 4,
 "nbformat_minor": 2
}
