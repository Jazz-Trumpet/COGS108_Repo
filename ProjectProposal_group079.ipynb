{
 "cells": [
  {
   "cell_type": "markdown",
   "metadata": {},
   "source": [
    "# COGS 108 - Final Project Proposal"
   ]
  },
  {
   "cell_type": "markdown",
   "metadata": {},
   "source": [
    "# Names\n",
    "\n",
    "* Corrina Chung \n",
    "* Thomas ‘Cole’ Biehle\n",
    "* Cassandra De La Torre \n",
    "* Nicholas Kho\n",
    "* Luis Flores-Cuevas\n"
   ]
  },
  {
   "cell_type": "markdown",
   "metadata": {},
   "source": [
    "# Research Question"
   ]
  },
  {
   "cell_type": "markdown",
   "metadata": {},
   "source": [
    "Does the increase of users owning smartphones over the years have a correlation with sleep duration and quality of sleep for individuals in the US from 2000 to 2020? \n"
   ]
  },
  {
   "cell_type": "markdown",
   "metadata": {},
   "source": [
    "## Background and Prior Work"
   ]
  },
  {
   "cell_type": "markdown",
   "metadata": {},
   "source": [
    "* People that own smartphones sleep less than people who don’t have smartphones\n",
    "\n",
    "(no link because its a pdf) Adolescents with a smartphone sleep less than their peers by Angélick Schweizer1 & André Berchtold2 & Yara Barrense-Dias 1 & Christina Akre 1 & Joan-Carles Suris\n",
    "\n",
    "* How late night smartphone use impacts sleep\n",
    "\n",
    "https://www.sciencedirect.com/science/article/pii/S0749597814000089?casa_token=ErI2L6KM6v0AAAAA:X2QmmxdQGvfzHFR6-CtACE4DYm4hVer7H0Zsv6TqmRDmibbLLq-_X9ZJedQUAiZubsCngAY_zg \n",
    "\n",
    "* Use of electronic media before going to sleep\n",
    "\n",
    "https://www.sciencedirect.com/science/article/pii/S014019711730163X?casa_token=cB_6Kqvza0QAAAAA:PeZ3NdbeDBFrLX6tdY3M-guIQsb2QpVA0T3Yk6_IT1Ry649LiUtDZAOQBOJSjNiPfbNOzc6cjA\n",
    "\n",
    "* Mobile phone use and the impact on sleep quality\n",
    "\n",
    "http://jnbs.org/uploads/files/105455jnbs1519129764_en.pdf\n",
    "\n",
    "* Texting at night\n",
    "\n",
    "https://www.sciencedirect.com/science/article/abs/pii/S2352721815001515\n",
    "\n",
    "* Media on sleep quality on adolescents\n",
    "\n",
    "https://pdfs.semanticscholar.org/7677/8805a504b35ad41da1dabcf7011e35bab422.pdf\n",
    "\n",
    "* Adolescent Sleep and Cell Phone Use: Recent Trends and Implications for Research\n",
    "\n",
    "https://www.ncbi.nlm.nih.gov/pmc/articles/PMC4089837/\n",
    "\n",
    "* Smartphones as Sleep Duration Sensors: Validation of the iSenseSleep Algorithm\n",
    "\n",
    "https://mhealth.jmir.org/2019/5/e11930/\n"
   ]
  },
  {
   "cell_type": "markdown",
   "metadata": {},
   "source": [
    "# Hypothesis\n"
   ]
  },
  {
   "cell_type": "markdown",
   "metadata": {},
   "source": [
    "We hypothesize that as possession of smartphones increased in the general population, the average amount of hours slept has decreased for Americans between the years 2000 and 2020. This could also negatively affect individuals' overall quality of sleep. Due to the fact that having smartphones at one’s disposal could possibly lead to using it while in bed rather than sleeping; which would lead to a decrease in the number of hours slept. Also the increasing usage of smartphones can increase the likelihood of sleep disturbances resulting in poor sleep quality. "
   ]
  },
  {
   "cell_type": "markdown",
   "metadata": {},
   "source": [
    "# Data"
   ]
  },
  {
   "cell_type": "markdown",
   "metadata": {},
   "source": [
    "The ideal data set would be data from the amount of people in the United States who owned smartphones from 2000 to 2020 (data: year to year), the average amount of hours slept in the United States from 2000 to 2020 (year to year). Having these variables of average sleep hours and number of smartphone owners would allow for us to have a good idea if smartphone use can impact sleep duration and quality of sleep. In a perfect data set, we would want to have every observation in the US. This would mean having the hours slept on average for a year from every person that lived in the US as well as an updated number of how many US citizens owned smartphones. This data would possibly be collected from the census. This data could be stored in a CSV file with “average hours slept” and “number of smartphone owners” as the column headers, and each year from 2000 to 2020 as a row header.\n",
    "\n",
    "Possible data sets:\n",
    "Phone Data:\n",
    "Apple iPhone Sales By Year: FY 2007 - 2018 - Dazeinfo \n",
    "• iPhone sales by year | Statista  (Both datasets relay the same data, showing their is validity )\n",
    "Sleep Data:\n",
    "https://www.kaggle.com/mlomuscio/sleepstudypilot\n",
    "https://www.kaggle.com/danagerous/sleep-data\n",
    "\n",
    "\n"
   ]
  },
  {
   "cell_type": "markdown",
   "metadata": {},
   "source": [
    "# Ethics & Privacy"
   ]
  },
  {
   "cell_type": "markdown",
   "metadata": {},
   "source": [
    "The data we are using is available to the public. We are not using personal information or any other information that would require us to personally ask consent.  The data we are using has been collected by other third parties that have asked participants for consent. We will use data from Apple regarding their iphone and tablets sales in the past two decades. We will also be using data from individual’s sleeping habits provided consensually from other studies.\n"
   ]
  },
  {
   "cell_type": "markdown",
   "metadata": {},
   "source": [
    "# Team Expectations "
   ]
  },
  {
   "cell_type": "markdown",
   "metadata": {},
   "source": [
    "* Everyone will contribute to the project in a collaborative manner\n",
    "* Everyone will do the tasks they commit to doing\n",
    "* Everyone will show up to meetings and turn things in on time\n",
    "* Everyone will communicate if needed in our group chat\n",
    "* Everyone will be respectful to each other\n"
   ]
  },
  {
   "cell_type": "markdown",
   "metadata": {},
   "source": [
    "# Project Timeline Proposal"
   ]
  },
  {
   "cell_type": "markdown",
   "metadata": {},
   "source": [
    "| Meeting Date  | Meeting Time| Completed Before Meeting  | Discuss at Meeting |\n",
    "|---|---|---|---|\n",
    "| 1/20  |  2 PM | Read & Think about COGS 108 expectations; brainstorm topics/questions  | Determine best form of communication; Discuss and decide on final project topic; discuss hypothesis; begin background research | \n",
    "| 1/26  |  5 PM |  Do background research on topic | Discuss ideal dataset(s) and ethics; draft project proposal | \n",
    "| 2/1  | 5 PM  | Edit, finalize, and submit proposal; Search for datasets  | Discuss Wrangling and possible analytical approaches; Assign group members to lead each specific part   |\n",
    "| 2/14  | 5 PM  | Import & Wrangle Data (Luis); EDA (Thomas(Cole)) | Review/Edit wrangling/EDA; Discuss Analysis Plan   |\n",
    "| 2/23  | 5 PM  | Finalize wrangling/EDA; Begin Analysis (Cassandra; Corrina) | Discuss/edit Analysis; Complete project check-in |\n",
    "| 3/13  | 2 PM  | Complete analysis; Draft results/conclusion/discussion (Cassandra; Nicholas)| Discuss/edit full project |\n",
    "| 3/19  | Before 11:59 PM  | NA | Turn in Final Project & Group Project Surveys |"
   ]
  }
 ],
 "metadata": {
  "kernelspec": {
   "display_name": "Python 3",
   "language": "python",
   "name": "python3"
  },
  "language_info": {
   "codemirror_mode": {
    "name": "ipython",
    "version": 3
   },
   "file_extension": ".py",
   "mimetype": "text/x-python",
   "name": "python",
   "nbconvert_exporter": "python",
   "pygments_lexer": "ipython3",
   "version": "3.8.5"
  }
 },
 "nbformat": 4,
 "nbformat_minor": 2
}
